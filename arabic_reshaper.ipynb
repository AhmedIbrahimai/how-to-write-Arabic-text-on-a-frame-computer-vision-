{
 "cells": [
  {
   "cell_type": "code",
   "execution_count": 6,
   "id": "a7450cfa",
   "metadata": {},
   "outputs": [
    {
     "data": {
      "text/plain": [
       "'C:\\\\Users\\\\amb\\\\Downloads\\\\images\\\\sign-language-detection'"
      ]
     },
     "execution_count": 6,
     "metadata": {},
     "output_type": "execute_result"
    }
   ],
   "source": [
    "pwd"
   ]
  },
  {
   "cell_type": "code",
   "execution_count": 4,
   "id": "83057adb",
   "metadata": {},
   "outputs": [],
   "source": [
    "import os\n",
    "os.chdir(r\"C:\\Users\\amb\\Downloads\\images\\sign-language-detection\")\n",
    "import cv2\n",
    "import numpy as np\n",
    "\n",
    "\n",
    "image = cv2.imread('like.png')\n",
    "\n",
    "\n",
    "text = 'اللغه العربيه'\n",
    "font = cv2.FONT_HERSHEY_SIMPLEX\n",
    "font_scale = 1\n",
    "font_thickness = 2\n",
    "font_color = (255, 255, 255) \n",
    "position = (50, 50)  \n",
    "\n",
    "cv2.putText(image, text, position, font, font_scale, font_color, font_thickness)\n",
    "\n",
    "\n",
    "cv2.imshow('Image with Text', image)\n",
    "cv2.waitKey(0)\n",
    "cv2.destroyAllWindows()\n",
    "\n"
   ]
  },
  {
   "cell_type": "code",
   "execution_count": 5,
   "id": "2687a418",
   "metadata": {},
   "outputs": [],
   "source": [
    "import cv2\n",
    "import numpy as np\n",
    "from PIL import Image, ImageDraw, ImageFont\n",
    "from bidi.algorithm import get_display\n",
    "import arabic_reshaper\n",
    "import os\n",
    "os.chdir(r\"C:\\Users\\amb\\Downloads\\images\\sign-language-detection\")\n",
    "\n",
    "# Load the image\n",
    "img = cv2.imread(\"like.png\")\n",
    "\n",
    "# Load a font that supports Arabic characters\n",
    "fontpath = \"arial.ttf\"  # Make sure to download an Arabic font and specify the correct path\n",
    "font = ImageFont.truetype(fontpath, 32)\n",
    "\n",
    "# Convert the image to a PIL image\n",
    "img_pil = Image.fromarray(cv2.cvtColor(img, cv2.COLOR_BGR2RGB))\n",
    "\n",
    "# Create a drawing context\n",
    "draw = ImageDraw.Draw(img_pil)\n",
    "\n",
    "# Arabic text\n",
    "text = \"اللغة العربية\"\n",
    "\n",
    "# Reshape and bidi the text\n",
    "reshaped_text = arabic_reshaper.reshape(text)\n",
    "bidi_text = get_display(reshaped_text)\n",
    "\n",
    "# Position and font color\n",
    "x, y = 100, 80\n",
    "font_color = (255, 255, 255)  # White\n",
    "\n",
    "# Draw the text on the image\n",
    "draw.text((x, y), bidi_text, font=font, fill=font_color)\n",
    "\n",
    "# Convert back to a NumPy array\n",
    "img = np.array(img_pil)\n",
    "\n",
    "# Display the image with Arabic text\n",
    "cv2.imshow(\"Image with Arabic\", img)\n",
    "cv2.waitKey(0)\n",
    "cv2.destroyAllWindows()\n"
   ]
  },
  {
   "cell_type": "code",
   "execution_count": null,
   "id": "8f0501e8",
   "metadata": {},
   "outputs": [],
   "source": []
  }
 ],
 "metadata": {
  "kernelspec": {
   "display_name": "Python 3 (ipykernel)",
   "language": "python",
   "name": "python3"
  },
  "language_info": {
   "codemirror_mode": {
    "name": "ipython",
    "version": 3
   },
   "file_extension": ".py",
   "mimetype": "text/x-python",
   "name": "python",
   "nbconvert_exporter": "python",
   "pygments_lexer": "ipython3",
   "version": "3.9.17"
  }
 },
 "nbformat": 4,
 "nbformat_minor": 5
}
